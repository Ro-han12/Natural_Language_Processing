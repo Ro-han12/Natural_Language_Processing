{
 "cells": [
  {
   "cell_type": "code",
   "execution_count": 1,
   "metadata": {},
   "outputs": [
    {
     "data": {
      "text/plain": [
       "['austen-emma.txt',\n",
       " 'austen-persuasion.txt',\n",
       " 'austen-sense.txt',\n",
       " 'bible-kjv.txt',\n",
       " 'blake-poems.txt',\n",
       " 'bryant-stories.txt',\n",
       " 'burgess-busterbrown.txt',\n",
       " 'carroll-alice.txt',\n",
       " 'chesterton-ball.txt',\n",
       " 'chesterton-brown.txt',\n",
       " 'chesterton-thursday.txt',\n",
       " 'edgeworth-parents.txt',\n",
       " 'melville-moby_dick.txt',\n",
       " 'milton-paradise.txt',\n",
       " 'shakespeare-caesar.txt',\n",
       " 'shakespeare-hamlet.txt',\n",
       " 'shakespeare-macbeth.txt',\n",
       " 'whitman-leaves.txt']"
      ]
     },
     "execution_count": 1,
     "metadata": {},
     "output_type": "execute_result"
    }
   ],
   "source": [
    "import nltk\n",
    "from nltk.corpus import gutenberg\n",
    "nltk.corpus.gutenberg.fileids()\n"
   ]
  },
  {
   "cell_type": "code",
   "execution_count": 2,
   "metadata": {},
   "outputs": [
    {
     "data": {
      "text/plain": [
       "23140"
      ]
     },
     "execution_count": 2,
     "metadata": {},
     "output_type": "execute_result"
    }
   ],
   "source": [
    "text=nltk.corpus.gutenberg.words('shakespeare-macbeth.txt')\n",
    "len(text)"
   ]
  },
  {
   "cell_type": "markdown",
   "metadata": {},
   "source": [
    "This program displays three statistics for each text in gutenberg corpus:\n",
    "1. average word length,\n",
    "2. average sentence length, and\n",
    "3. the number of times each vocabulary item appears in the text on average (our lexical diversity score)"
   ]
  },
  {
   "cell_type": "code",
   "execution_count": 3,
   "metadata": {},
   "outputs": [
    {
     "name": "stdout",
     "output_type": "stream",
     "text": [
      "Statistics for 'austen-emma.txt':\n",
      "Average Word Length: 3.76\n",
      "Average Sentence Length: 24.83\n",
      "Lexical Diversity Score: 0.04\n",
      "\n",
      "Statistics for 'austen-persuasion.txt':\n",
      "Average Word Length: 3.87\n",
      "Average Sentence Length: 26.20\n",
      "Lexical Diversity Score: 0.06\n",
      "\n"
     ]
    }
   ],
   "source": [
    "from nltk.corpus import gutenberg\n",
    "def avg_word_length(words):\n",
    "    total_chars=sum(len(word) for word in words)\n",
    "    return total_chars/len(words)\n",
    "def avg_sentence_length(sentences):\n",
    "    total_chars=sum(len(sentence) for sentence in sentences)\n",
    "    return total_chars/len(sentences)\n",
    "def lexical_diversity(words):\n",
    "    return len(set(words))/len(words)\n",
    "\n",
    "gutenberg_text=nltk.corpus.gutenberg.fileids()\n",
    "for i in gutenberg_text:\n",
    "    words=gutenberg.words(i)\n",
    "    sentences=gutenberg.sents(i)\n",
    "    average_words=avg_word_length(words)\n",
    "    average_sentences=avg_sentence_length(sentences)\n",
    "    average_lexical=lexical_diversity(words)\n",
    "    print(f\"Statistics for '{i}':\")\n",
    "    print(f\"Average Word Length: {average_words:.2f}\")\n",
    "    print(f\"Average Sentence Length: {average_sentences:.2f}\")\n",
    "    print(f\"Lexical Diversity Score: {average_lexical:.2f}\")\n",
    "    print()"
   ]
  },
  {
   "cell_type": "code",
   "execution_count": null,
   "metadata": {},
   "outputs": [],
   "source": []
  }
 ],
 "metadata": {
  "kernelspec": {
   "display_name": "nlp",
   "language": "python",
   "name": "python3"
  },
  "language_info": {
   "codemirror_mode": {
    "name": "ipython",
    "version": 3
   },
   "file_extension": ".py",
   "mimetype": "text/x-python",
   "name": "python",
   "nbconvert_exporter": "python",
   "pygments_lexer": "ipython3",
   "version": "3.10.13"
  }
 },
 "nbformat": 4,
 "nbformat_minor": 2
}
