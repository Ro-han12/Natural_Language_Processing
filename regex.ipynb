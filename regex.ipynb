{
 "cells": [
  {
   "cell_type": "code",
   "execution_count": 1,
   "metadata": {},
   "outputs": [
    {
     "name": "stdout",
     "output_type": "stream",
     "text": [
      "Emails: ['info@example.com', 'support@example.org']\n",
      "Phone Numbers: ['+1 (555) 123-4567', '+91 1234567890']\n"
     ]
    }
   ],
   "source": [
    "import re\n",
    "\n",
    "def extract_emails(text):\n",
    "    pattern = r'[\\w\\.-]+@[a-zA-Z\\d\\.-]+\\.[a-zA-Z]{2,}'\n",
    "    emails = re.findall(pattern, text)\n",
    "    return emails\n",
    "\n",
    "def extract_phone_numbers(text):\n",
    "    pattern = r'\\+?\\d{1,3}?\\s?\\(?\\d{3}\\)?[-.\\s]?\\d{3}[-.\\s]?\\d{4}'\n",
    "    phone_numbers = re.findall(pattern, text)\n",
    "    return phone_numbers\n",
    "\n",
    "# Sample text containing emails and phone numbers\n",
    "sample_text = \"\"\"\n",
    "Contact us at info@example.com or call +1 (555) 123-4567 for assistance.\n",
    "You can also reach us at support@example.org or dial +91 1234567890.\n",
    "\"\"\"\n",
    "\n",
    "# Extract emails and phone numbers from the sample text\n",
    "emails = extract_emails(sample_text)\n",
    "phone_numbers = extract_phone_numbers(sample_text)\n",
    "\n",
    "# Print the extracted emails and phone numbers\n",
    "print(\"Emails:\", emails)\n",
    "print(\"Phone Numbers:\", phone_numbers)\n"
   ]
  },
  {
   "cell_type": "code",
   "execution_count": null,
   "metadata": {},
   "outputs": [],
   "source": []
  }
 ],
 "metadata": {
  "kernelspec": {
   "display_name": "nlp",
   "language": "python",
   "name": "python3"
  },
  "language_info": {
   "codemirror_mode": {
    "name": "ipython",
    "version": 3
   },
   "file_extension": ".py",
   "mimetype": "text/x-python",
   "name": "python",
   "nbconvert_exporter": "python",
   "pygments_lexer": "ipython3",
   "version": "3.10.13"
  }
 },
 "nbformat": 4,
 "nbformat_minor": 2
}
