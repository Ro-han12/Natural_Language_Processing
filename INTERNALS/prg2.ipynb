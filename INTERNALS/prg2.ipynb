{
 "cells": [
  {
   "cell_type": "code",
   "execution_count": 18,
   "metadata": {},
   "outputs": [
    {
     "name": "stdout",
     "output_type": "stream",
     "text": [
      "[('text', 2), ('input', 1), ('goes', 1), ('replace', 1), ('actual', 1)]\n"
     ]
    },
    {
     "name": "stderr",
     "output_type": "stream",
     "text": [
      "[nltk_data] Downloading package stopwords to\n",
      "[nltk_data]     /Users/rohansridhar/nltk_data...\n",
      "[nltk_data]   Package stopwords is already up-to-date!\n"
     ]
    }
   ],
   "source": [
    "import nltk \n",
    "from nltk.corpus import stopwords\n",
    "from collections import Counter\n",
    "nltk.download(\"stopwords\")\n",
    "def most_common(text,num_words=50):\n",
    "    words=nltk.word_tokenize(text.lower())\n",
    "    stop_words=set(stopwords.words('english'))\n",
    "    filtered_words=[word for word in words if word not in stop_words and word.isalnum()]\n",
    "    word_freq=Counter(filtered_words)\n",
    "    count=word_freq.most_common(num_words)\n",
    "    return count\n",
    "text='Your input text goes here. Replace this with your actual text.'\n",
    "res=most_common(text)\n",
    "print(res)\n",
    "    \n",
    "    "
   ]
  },
  {
   "cell_type": "code",
   "execution_count": null,
   "metadata": {},
   "outputs": [],
   "source": []
  }
 ],
 "metadata": {
  "kernelspec": {
   "display_name": "Python 3",
   "language": "python",
   "name": "python3"
  },
  "language_info": {
   "codemirror_mode": {
    "name": "ipython",
    "version": 3
   },
   "file_extension": ".py",
   "mimetype": "text/x-python",
   "name": "python",
   "nbconvert_exporter": "python",
   "pygments_lexer": "ipython3",
   "version": "3.9.6"
  }
 },
 "nbformat": 4,
 "nbformat_minor": 2
}
