{
 "cells": [
  {
   "cell_type": "code",
   "execution_count": 8,
   "metadata": {},
   "outputs": [
    {
     "name": "stderr",
     "output_type": "stream",
     "text": [
      "[nltk_data] Downloading package movie_reviews to\n",
      "[nltk_data]     /Users/rohansridhar/nltk_data...\n",
      "[nltk_data]   Package movie_reviews is already up-to-date!\n"
     ]
    },
    {
     "name": "stdout",
     "output_type": "stream",
     "text": [
      "Accuracy is 0.677\n",
      "Input Text: This movie is amazing!\n",
      "Predicted Label: neg\n"
     ]
    }
   ],
   "source": [
    "import nltk\n",
    "from nltk.corpus import movie_reviews\n",
    "nltk.download('movie_reviews')\n",
    "import random\n",
    "documents=[(list(movie_reviews.words(fileids)),category)\n",
    "           for category in movie_reviews.categories()\n",
    "           for fileids in movie_reviews.fileids(category)]\n",
    "random.shuffle(documents)\n",
    "def document_features(document):\n",
    "    features = {}\n",
    "    for word in document:\n",
    "        features[word] = True\n",
    "    return features\n",
    "featuresets=[(document_features(d),c) for (d,c) in documents]\n",
    "x_train,x_test=featuresets[1000:],featuresets[:1000]\n",
    "classifier=nltk.NaiveBayesClassifier.train(x_train)\n",
    "print(\"Accuracy is\",nltk.classify.accuracy(classifier,x_test))\n",
    "def classify_text(text):\n",
    "    words = nltk.word_tokenize(text)\n",
    "    features = document_features(words)\n",
    "    label = classifier.classify(features)\n",
    "    return label\n",
    "input_text = \"This movie is amazing!\"\n",
    "output_label = classify_text(input_text)\n",
    "print(\"Input Text:\", input_text)\n",
    "print(\"Predicted Label:\", output_label)"
   ]
  }
 ],
 "metadata": {
  "kernelspec": {
   "display_name": "google",
   "language": "python",
   "name": "python3"
  },
  "language_info": {
   "codemirror_mode": {
    "name": "ipython",
    "version": 3
   },
   "file_extension": ".py",
   "mimetype": "text/x-python",
   "name": "python",
   "nbconvert_exporter": "python",
   "pygments_lexer": "ipython3",
   "version": "3.10.13"
  }
 },
 "nbformat": 4,
 "nbformat_minor": 2
}
