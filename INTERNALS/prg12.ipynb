{
 "cells": [
  {
   "cell_type": "code",
   "execution_count": 8,
   "metadata": {},
   "outputs": [
    {
     "name": "stderr",
     "output_type": "stream",
     "text": [
      "[nltk_data] Downloading package movie_reviews to\n",
      "[nltk_data]     /Users/rohansridhar/nltk_data...\n",
      "[nltk_data]   Package movie_reviews is already up-to-date!\n"
     ]
    },
    {
     "name": "stdout",
     "output_type": "stream",
     "text": [
      "Accuracy is 0.677\n",
      "Input Text: This movie is amazing!\n",
      "Predicted Label: neg\n"
     ]
    }
   ],
   "source": [
    "import nltk\n",
    "from nltk.corpus import movie_reviews \n",
    "nltk.download('movie_reviews')\n",
    "import random\n",
    "documents=[(list(movie_reviews.words(fileids)),category)\n",
    "           for category in movie_reviews.categories()\n",
    "           for fileids in movie_reviews.fileids(category)]\n",
    "random.shuffle(documents)\n",
    "def document_features(document):\n",
    "    features = {}\n",
    "    for word in document:\n",
    "        features[word] = True\n",
    "    return features \n",
    "featuresets=[(document_features(d),c) for (d,c) in documents]\n",
    "x_train,x_test=featuresets[1000:],featuresets[:1000]\n",
    "classifier=nltk.NaiveBayesClassifier.train(x_train)\n",
    "print(\"Accuracy is\",nltk.classify.accuracy(classifier,x_test))\n",
    "def classify_text(text):\n",
    "    words = nltk.word_tokenize(text)\n",
    "    features = document_features(words)\n",
    "    label = classifier.classify(features)\n",
    "    return label\n",
    "input_text = \"This movie is amazing!\"\n",
    "output_label = classify_text(input_text)\n",
    "print(\"Input Text:\", input_text)\n",
    "print(\"Predicted Label:\", output_label)"
   ]
  },
  {
   "cell_type": "code",
   "execution_count": 1,
   "metadata": {},
   "outputs": [
    {
     "name": "stdout",
     "output_type": "stream",
     "text": [
      "Accuracy: 1.00\n",
      "Sentence: \"The movie was amazing and thrilling!\"\n",
      "Classified as: pos\n",
      "Most Informative Features\n",
      "         contains(movie) = True              neg : pos    =      1.7 : 1.0\n",
      "           contains(was) = True              neg : pos    =      1.7 : 1.0\n",
      "         contains(movie) = False             pos : neg    =      1.3 : 1.0\n",
      "           contains(was) = False             pos : neg    =      1.3 : 1.0\n",
      "             contains(a) = False             pos : neg    =      1.2 : 1.0\n"
     ]
    }
   ],
   "source": [
    "from textblob.classifiers import NaiveBayesClassifier\n",
    "from textblob import TextBlob\n",
    "train = [\n",
    "    ('I love this movie.', 'pos'),\n",
    "    ('This is an amazing film!', 'pos'),\n",
    "    ('The film was great and exciting.', 'pos'),\n",
    "    ('Absolutely fantastic!', 'pos'),\n",
    "    ('I really enjoyed this.', 'pos'),\n",
    "    ('I hated this movie.', 'neg'),\n",
    "    ('This was a terrible film.', 'neg'),\n",
    "    ('The movie was boring and dull.', 'neg'),\n",
    "    ('Absolutely horrible!', 'neg'),\n",
    "    ('I did not like this film at all.', 'neg')\n",
    "]\n",
    "\n",
    "test = [\n",
    "    ('I enjoyed the movie.', 'pos'),\n",
    "    ('It was a fantastic experience.', 'pos'),\n",
    "    ('The film was not good.', 'neg'),\n",
    "    ('I did not enjoy the movie.', 'neg')\n",
    "]\n",
    "classifier = NaiveBayesClassifier(train)\n",
    "accuracy = classifier.accuracy(test)\n",
    "print(f'Accuracy: {accuracy:.2f}')\n",
    "def classify_sentence(sentence):\n",
    "    blob = TextBlob(sentence, classifier=classifier)\n",
    "    return blob.classify()\n",
    "new_sentence = \"The movie was amazing and thrilling!\"\n",
    "print(f'Sentence: \"{new_sentence}\"')\n",
    "print(f'Classified as: {classify_sentence(new_sentence)}')\n",
    "\n",
    "classifier.show_informative_features(5)\n"
   ]
  }
 ],
 "metadata": {
  "kernelspec": {
   "display_name": "google",
   "language": "python",
   "name": "python3"
  },
  "language_info": {
   "codemirror_mode": {
    "name": "ipython",
    "version": 3
   },
   "file_extension": ".py",
   "mimetype": "text/x-python",
   "name": "python",
   "nbconvert_exporter": "python",
   "pygments_lexer": "ipython3",
   "version": "3.10.13"
  }
 },
 "nbformat": 4,
 "nbformat_minor": 2
}
