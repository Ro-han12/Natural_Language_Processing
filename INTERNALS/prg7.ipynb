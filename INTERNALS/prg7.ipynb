{
 "cells": [
  {
   "cell_type": "code",
   "execution_count": 5,
   "metadata": {},
   "outputs": [
    {
     "name": "stdout",
     "output_type": "stream",
     "text": [
      "Normalized text using split() and join(): This is a test string\n",
      "Normalized text using regular expression: This is a test string\n"
     ]
    }
   ],
   "source": [
    "import re \n",
    "def normalise(text):\n",
    "    word=text.split()\n",
    "    normalised=' '.join(word)\n",
    "    normalised_regex=re.sub(r'\\s+', ' ', text.strip())\n",
    "    return  normalised,normalised_regex\n",
    "text = \"  This   is  a   test   string  \"\n",
    "split_join, regex = normalise(text)\n",
    "print(\"Normalized text using split() and join():\", split_join)\n",
    "print(\"Normalized text using regular expression:\", regex)"
   ]
  }
 ],
 "metadata": {
  "kernelspec": {
   "display_name": "Python 3",
   "language": "python",
   "name": "python3"
  },
  "language_info": {
   "codemirror_mode": {
    "name": "ipython",
    "version": 3
   },
   "file_extension": ".py",
   "mimetype": "text/x-python",
   "name": "python",
   "nbconvert_exporter": "python",
   "pygments_lexer": "ipython3",
   "version": "3.9.6"
  }
 },
 "nbformat": 4,
 "nbformat_minor": 2
}
