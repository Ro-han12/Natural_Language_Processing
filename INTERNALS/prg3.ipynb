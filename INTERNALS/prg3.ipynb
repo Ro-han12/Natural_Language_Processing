{
 "cells": [
  {
   "cell_type": "code",
   "execution_count": 3,
   "metadata": {},
   "outputs": [
    {
     "name": "stdout",
     "output_type": "stream",
     "text": [
      "Counter({('input', 'text'): 1, ('text', 'goes'): 1, ('goes', 'replace'): 1, ('replace', 'actual'): 1, ('actual', 'text'): 1})\n"
     ]
    },
    {
     "name": "stderr",
     "output_type": "stream",
     "text": [
      "[nltk_data] Downloading package stopwords to\n",
      "[nltk_data]     /Users/rohansridhar/nltk_data...\n",
      "[nltk_data]   Package stopwords is already up-to-date!\n"
     ]
    }
   ],
   "source": [
    "import nltk\n",
    "from nltk.corpus import stopwords\n",
    "from collections import Counter\n",
    "nltk.download(\"stopwords\")\n",
    "def most_freq_bigram(text,num_words=50):\n",
    "    words=nltk.word_tokenize(text.lower())\n",
    "    stop_words=set(stopwords.words('english'))\n",
    "    word_freq=[word for word in words if word.isalnum() and word not in stop_words]\n",
    "    bigram=list(nltk.bigrams(word_freq))\n",
    "    bigram_count=Counter(bigram)\n",
    "    return bigram_count\n",
    "text = \"Your input text goes here. Replace this with your actual text.\"\n",
    "res=most_freq_bigram(text)\n",
    "print(res)\n",
    "    "
   ]
  }
 ],
 "metadata": {
  "kernelspec": {
   "display_name": "Python 3",
   "language": "python",
   "name": "python3"
  },
  "language_info": {
   "codemirror_mode": {
    "name": "ipython",
    "version": 3
   },
   "file_extension": ".py",
   "mimetype": "text/x-python",
   "name": "python",
   "nbconvert_exporter": "python",
   "pygments_lexer": "ipython3",
   "version": "3.9.6"
  }
 },
 "nbformat": 4,
 "nbformat_minor": 2
}
