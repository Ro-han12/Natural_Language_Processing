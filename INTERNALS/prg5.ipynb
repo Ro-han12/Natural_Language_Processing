{
 "cells": [
  {
   "cell_type": "code",
   "execution_count": 2,
   "metadata": {},
   "outputs": [
    {
     "name": "stdout",
     "output_type": "stream",
     "text": [
      "before: colorless\n",
      "after: colourless\n"
     ]
    }
   ],
   "source": [
    "# 5A\n",
    "s=\"colorless\"\n",
    "modified_s=s[0:3]+'our'+s[5:]\n",
    "print(\"before:\",s)\n",
    "print(\"after:\",modified_s)"
   ]
  },
  {
   "cell_type": "code",
   "execution_count": null,
   "metadata": {},
   "outputs": [],
   "source": [
    "from googletrans import Translator\n",
    "\n",
    "def translate(text, source_lang, target_lang):\n",
    "    translator = Translator()\n",
    "    translated_text = translator.translate(text, src=source_lang, dest=target_lang)\n",
    "    return translated_text.text\n",
    "\n",
    "# Example usage\n",
    "english_text = \"Hello, how are you?\"\n",
    "translated_text = translate(english_text, 'en', 'fr')\n",
    "print(\"English to French:\", translated_text)\n",
    "\n",
    "french_text = \"Bonjour, comment ça va?\"\n",
    "translated_text = translate(french_text, 'fr', 'en')\n",
    "print(\"French to English:\", translated_text)\n"
   ]
  }
 ],
 "metadata": {
  "kernelspec": {
   "display_name": "Python 3",
   "language": "python",
   "name": "python3"
  },
  "language_info": {
   "codemirror_mode": {
    "name": "ipython",
    "version": 3
   },
   "file_extension": ".py",
   "mimetype": "text/x-python",
   "name": "python",
   "nbconvert_exporter": "python",
   "pygments_lexer": "ipython3",
   "version": "3.9.6"
  }
 },
 "nbformat": 4,
 "nbformat_minor": 2
}
