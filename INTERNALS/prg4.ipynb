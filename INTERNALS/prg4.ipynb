{
 "cells": [
  {
   "cell_type": "code",
   "execution_count": 4,
   "metadata": {},
   "outputs": [
    {
     "name": "stdout",
     "output_type": "stream",
     "text": [
      "The word 'the' appears 5580 times in the 'news' section of the Brown Corpus.\n"
     ]
    },
    {
     "name": "stderr",
     "output_type": "stream",
     "text": [
      "[nltk_data] Downloading package brown to\n",
      "[nltk_data]     /Users/rohansridhar/nltk_data...\n",
      "[nltk_data]   Package brown is already up-to-date!\n"
     ]
    }
   ],
   "source": [
    "import nltk\n",
    "from nltk.corpus import brown\n",
    "nltk.download('brown')\n",
    "def word_freq(word,section):\n",
    "    try:\n",
    "        word_section=brown.words(categories=section)\n",
    "        freq=word_section.count(word)\n",
    "        return freq \n",
    "    except ValueError:\n",
    "        print(f\"section {section} does not exist\")\n",
    "        return None\n",
    "word=\"the\"\n",
    "section='news'\n",
    "frequency=word_freq(word,section)\n",
    "if frequency is not None:\n",
    "    print(f\"The word '{word}' appears {frequency} times in the '{section}' section of the Brown Corpus.\")"
   ]
  }
 ],
 "metadata": {
  "kernelspec": {
   "display_name": "Python 3",
   "language": "python",
   "name": "python3"
  },
  "language_info": {
   "codemirror_mode": {
    "name": "ipython",
    "version": 3
   },
   "file_extension": ".py",
   "mimetype": "text/x-python",
   "name": "python",
   "nbconvert_exporter": "python",
   "pygments_lexer": "ipython3",
   "version": "3.9.6"
  }
 },
 "nbformat": 4,
 "nbformat_minor": 2
}
