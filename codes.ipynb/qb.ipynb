{
 "cells": [
  {
   "cell_type": "code",
   "execution_count": 1,
   "metadata": {},
   "outputs": [
    {
     "name": "stdout",
     "output_type": "stream",
     "text": [
      "[('The', 'DT'), ('quick', 'JJ'), ('brown', 'NN'), ('fox', 'NN'), ('jumps', 'VBZ'), ('over', 'IN'), ('the', 'DT'), ('lazy', 'JJ'), ('dog', 'NN')]\n"
     ]
    }
   ],
   "source": [
    "#1\n",
    "import nltk\n",
    "\n",
    "# Sample sentence\n",
    "sentence = \"The quick brown fox jumps over the lazy dog\"\n",
    "\n",
    "# Tokenize the sentence\n",
    "tokens = nltk.word_tokenize(sentence)\n",
    "\n",
    "# Use Maxent POS tagger (sequence classifier)\n",
    "pos_tagger = nltk.pos_tag(tokens)\n",
    "\n",
    "print(pos_tagger)\n"
   ]
  },
  {
   "cell_type": "code",
   "execution_count": null,
   "metadata": {},
   "outputs": [],
   "source": [
    "from hmmlearn import hmm\n",
    "\n",
    "# Sample training data\n",
    "X = [[0], [1], [2], [3], [4]]  # Features (e.g., word indices)\n",
    "y = [0, 1, 0, 1, 0]  # POS tags (e.g., noun, verb)\n",
    "\n",
    "# Create and train the HMM model\n",
    "model = hmm.MultinomialHMM(n_components=2)\n",
    "model.fit(X, y)\n",
    "\n",
    "# Sample test data\n",
    "X_test = [[0], [1], [2], [3], [4]]\n",
    "\n",
    "# Predict POS tags for test data\n",
    "predicted_tags = model.predict(X_test)\n",
    "\n",
    "print(predicted_tags)\n"
   ]
  },
  {
   "cell_type": "code",
   "execution_count": null,
   "metadata": {},
   "outputs": [],
   "source": []
  }
 ],
 "metadata": {
  "kernelspec": {
   "display_name": "google",
   "language": "python",
   "name": "python3"
  },
  "language_info": {
   "codemirror_mode": {
    "name": "ipython",
    "version": 3
   },
   "file_extension": ".py",
   "mimetype": "text/x-python",
   "name": "python",
   "nbconvert_exporter": "python",
   "pygments_lexer": "ipython3",
   "version": "3.10.13"
  }
 },
 "nbformat": 4,
 "nbformat_minor": 2
}
