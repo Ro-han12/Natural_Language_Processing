{
 "cells": [
  {
   "cell_type": "code",
   "execution_count": 1,
   "metadata": {},
   "outputs": [
    {
     "name": "stdout",
     "output_type": "stream",
     "text": [
      "[('The', 'DT'), ('quick', 'JJ'), ('brown', 'NN'), ('fox', 'NN'), ('jumps', 'VBZ'), ('over', 'IN'), ('the', 'DT'), ('lazy', 'JJ'), ('dog', 'NN')]\n"
     ]
    }
   ],
   "source": [
    "#1\n",
    "import nltk\n",
    "\n",
    "# Sample sentence\n",
    "sentence = \"The quick brown fox jumps over the lazy dog\"\n",
    "\n",
    "# Tokenize the sentence\n",
    "tokens = nltk.word_tokenize(sentence)\n",
    "\n",
    "# Use Maxent POS tagger (sequence classifier)\n",
    "pos_tagger = nltk.pos_tag(tokens)\n",
    "\n",
    "print(pos_tagger)\n"
   ]
  },
  {
   "cell_type": "code",
   "execution_count": null,
   "metadata": {},
   "outputs": [],
   "source": [
    "from hmmlearn import hmm\n",
    "\n",
    "# Sample training data\n",
    "X = [[0], [1], [2], [3], [4]]  # Features (e.g., word indices)\n",
    "y = [0, 1, 0, 1, 0]  # POS tags (e.g., noun, verb)\n",
    "\n",
    "# Create and train the HMM model\n",
    "model = hmm.MultinomialHMM(n_components=2)\n",
    "model.fit(X, y)\n",
    "\n",
    "# Sample test data\n",
    "X_test = [[0], [1], [2], [3], [4]]\n",
    "\n",
    "# Predict POS tags for test data\n",
    "predicted_tags = model.predict(X_test)\n",
    "\n",
    "print(predicted_tags)\n"
   ]
  },
  {
   "cell_type": "code",
   "execution_count": 3,
   "metadata": {},
   "outputs": [
    {
     "name": "stdout",
     "output_type": "stream",
     "text": [
      "Most frequent noun tags:\n",
      "dog 2\n",
      "brown 1\n",
      "fox 1\n"
     ]
    }
   ],
   "source": [
    "import nltk\n",
    "from collections import Counter\n",
    "\n",
    "# Sample text\n",
    "text = \"The quick brown fox jumps over the lazy dog. The dog barks loudly.\"\n",
    "\n",
    "# Tokenize the text\n",
    "tokens = nltk.word_tokenize(text)\n",
    "\n",
    "# Perform part-of-speech tagging\n",
    "pos_tags = nltk.pos_tag(tokens)\n",
    "\n",
    "# Filter out nouns (NN, NNS, NNPS, and NNP)\n",
    "nouns = [word for word, pos in pos_tags if pos.startswith('NN')]\n",
    "\n",
    "# Count the frequency of each noun tag\n",
    "noun_counts = Counter(nouns)\n",
    "\n",
    "# Find the most common noun tags\n",
    "most_common_nouns = noun_counts.most_common()\n",
    "\n",
    "print(\"Most frequent noun tags:\")\n",
    "for noun, count in most_common_nouns:\n",
    "    print(noun, count)\n"
   ]
  },
  {
   "cell_type": "code",
   "execution_count": null,
   "metadata": {},
   "outputs": [],
   "source": []
  }
 ],
 "metadata": {
  "kernelspec": {
   "display_name": "google",
   "language": "python",
   "name": "python3"
  },
  "language_info": {
   "codemirror_mode": {
    "name": "ipython",
    "version": 3
   },
   "file_extension": ".py",
   "mimetype": "text/x-python",
   "name": "python",
   "nbconvert_exporter": "python",
   "pygments_lexer": "ipython3",
   "version": "3.10.13"
  }
 },
 "nbformat": 4,
 "nbformat_minor": 2
}
