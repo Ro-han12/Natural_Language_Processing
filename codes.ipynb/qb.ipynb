{
 "cells": [
  {
   "cell_type": "code",
   "execution_count": 1,
   "metadata": {},
   "outputs": [
    {
     "name": "stdout",
     "output_type": "stream",
     "text": [
      "Requirement already satisfied: python-crfsuite in /Users/rohansridhar/miniforge3/envs/google/lib/python3.10/site-packages (0.9.10)\n"
     ]
    },
    {
     "name": "stderr",
     "output_type": "stream",
     "text": [
      "[nltk_data] Downloading package treebank to\n",
      "[nltk_data]     /Users/rohansridhar/nltk_data...\n",
      "[nltk_data]   Package treebank is already up-to-date!\n",
      "/var/folders/9c/k2rvfmz92ld8z0rgrcsbrnl40000gn/T/ipykernel_4619/482164608.py:16: DeprecationWarning: \n",
      "  Function evaluate() has been deprecated.  Use accuracy(gold)\n",
      "  instead.\n",
      "  accuracy = ct.evaluate(test_data)\n"
     ]
    },
    {
     "name": "stdout",
     "output_type": "stream",
     "text": [
      "Accuracy: 0.9474638463198791\n",
      "[('This', 'DT'), ('is', 'VBZ'), ('a', 'DT'), ('sample', 'JJ'), ('sentence', 'NN'), ('to', 'TO'), ('test', 'VB'), ('the', 'DT'), ('tagger', 'NN'), ('.', '.')]\n"
     ]
    }
   ],
   "source": [
    "#1 \n",
    "import nltk\n",
    "from nltk.tag import CRFTagger\n",
    "!pip install python-crfsuite\n",
    "\n",
    "# Download and prepare the tagged dataset\n",
    "nltk.download('treebank')\n",
    "train_data = nltk.corpus.treebank.tagged_sents()[:3000]\n",
    "test_data = nltk.corpus.treebank.tagged_sents()[3000:]\n",
    "\n",
    "# Train the CRF tagger\n",
    "ct = CRFTagger()\n",
    "ct.train(train_data, 'model.crf.tagger')\n",
    "\n",
    "# Evaluate the tagger\n",
    "accuracy = ct.evaluate(test_data)\n",
    "print(\"Accuracy:\", accuracy)\n",
    "\n",
    "# Test the tagger on a sample sentence\n",
    "sample_sentence = \"This is a sample sentence to test the tagger .\".split()\n",
    "tagged_sentence = ct.tag(sample_sentence)\n",
    "print(tagged_sentence)\n"
   ]
  },
  {
   "cell_type": "code",
   "execution_count": null,
   "metadata": {},
   "outputs": [],
   "source": []
  }
 ],
 "metadata": {
  "kernelspec": {
   "display_name": "google",
   "language": "python",
   "name": "python3"
  },
  "language_info": {
   "codemirror_mode": {
    "name": "ipython",
    "version": 3
   },
   "file_extension": ".py",
   "mimetype": "text/x-python",
   "name": "python",
   "nbconvert_exporter": "python",
   "pygments_lexer": "ipython3",
   "version": "3.10.13"
  }
 },
 "nbformat": 4,
 "nbformat_minor": 2
}
